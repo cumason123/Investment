{
 "cells": [
  {
   "cell_type": "code",
   "execution_count": 1,
   "metadata": {},
   "outputs": [
    {
     "data": {
      "text/plain": [
       "[]"
      ]
     },
     "execution_count": 1,
     "metadata": {},
     "output_type": "execute_result"
    }
   ],
   "source": [
    "import datetime\n",
    "from TechnicalIndicators import plot_indicator\n",
    "from screener import find_stocks, symbols2indicators, COMPLEX_SYMBOLS, __SIMPLE_SYMBOLS\n",
    "from basic_strong_signals import StrongTrendTrading, SmallStocksTrendTrading\n",
    "import time\n",
    "import talib\n",
    "import alpaca_trade_api as tradeapi\n",
    "import os\n",
    "%matplotlib inline\n",
    "\n",
    "api = tradeapi.REST(api_version='v2') # or use ENV Vars shown below\n",
    "account = api.get_account()\n",
    "api.list_positions()"
   ]
  },
  {
   "cell_type": "code",
   "execution_count": 2,
   "metadata": {},
   "outputs": [
    {
     "name": "stdout",
     "output_type": "stream",
     "text": [
      "Grabbed Stock data in 192.95904684066772s\n"
     ]
    }
   ],
   "source": [
    "now = time.time()\n",
    "symbols = symbols2indicators(COMPLEX_SYMBOLS, nmacd=(15, 30, 9), ncci=31, years=1)\n",
    "print('Grabbed Stock data in {0}s'.format(time.time() - now))"
   ]
  },
  {
   "cell_type": "code",
   "execution_count": 3,
   "metadata": {},
   "outputs": [
    {
     "name": "stdout",
     "output_type": "stream",
     "text": [
      "Bullish Markets: ARCT\n",
      "Bullish Markets: ZIXI\n",
      "Bullish Markets: WILC\n",
      "Bullish Markets: KRMD\n",
      "Bullish Markets: NESR\n",
      "Bullish Markets: OPGNW\n",
      "Bullish Markets: DWAT\n",
      "Bullish Markets: CWBC\n",
      "Bullish Markets: PWFL\n",
      "Bullish Markets: ADMS\n",
      "Bullish Markets: INVA\n",
      "Bullish Markets: SSPK\n",
      "Bullish Markets: NBSE\n",
      "Bullish Markets: DGICA\n",
      "Bullish Markets: BLDP\n",
      "Bullish Markets: MTLS\n",
      "Bullish Markets: GLUU\n",
      "Bullish Markets: ARYAU\n",
      "Bullish Markets: CSSE\n",
      "Bullish Markets: CELH\n",
      "Bullish Markets: AMTBB\n",
      "Bullish Markets: CAMP\n",
      "Bullish Markets: GWGH\n",
      "Bullish Markets: KURA\n",
      "Bullish Markets: CNSL\n",
      "Bullish Markets: THBR\n",
      "Bullish Markets: FVCB\n",
      "Bullish Markets: THCA\n",
      "Bullish Markets: PBHC\n",
      "Bullish Markets: CLGN\n",
      "Bullish Markets: KIN\n",
      "Bullish Markets: HYACU\n",
      "Bullish Markets: OSBC\n",
      "Bullish Markets: PBPB\n",
      "Bullish Markets: BLPH\n",
      "Bullish Markets: PGNX\n",
      "Bullish Markets: FUSB\n",
      "Bullish Markets: CPRX\n",
      "Bullish Markets: PLUG\n",
      "Bullish Markets: JCTCF\n",
      "Bullish Markets: EDUC\n",
      "Bullish Markets: OTTW\n",
      "Bullish Markets: ORSNU\n",
      "Bullish Markets: NPAUU\n",
      "Bullish Markets: ALTY\n",
      "Bullish Markets: ROAD\n",
      "Bullish Markets: SPWR\n",
      "Bullish Markets: CGEN\n",
      "Bullish Markets: AMRK\n",
      "Bullish Markets: QNST\n",
      "Bullish Markets: RCM\n",
      "Bullish Markets: YGYIP\n",
      "Bullish Markets: VERY\n",
      "Bullish Markets: BCLI\n",
      "Bullish Markets: IPHA\n",
      "Bullish Markets: SFM\n",
      "Bullish Markets: PACQU\n",
      "Bullish Markets: FUND\n"
     ]
    }
   ],
   "source": [
    "# increase delta for more stock options. Smaller delta = higher profits.\n",
    "# Larger delta leads to you missing optimal buy timing\n",
    "\n",
    "trading_strategy = (delta=12)\n",
    "stocks_to_buy = find_stocks(trading_strategy.buy_ruleset, symbols, use_penny_stocks=False, threshold=20)\n",
    "for stock in stocks_to_buy:\n",
    "    print('Bullish Markets: {0}'.format(stock))\n",
    "#     plot_indicator(stocks_to_buy[stock], datetime.datetime(2019, 10, 1))\n",
    "# print(stocks_to_buy.keys())"
   ]
  },
  {
   "cell_type": "code",
   "execution_count": 4,
   "metadata": {},
   "outputs": [
    {
     "data": {
      "text/plain": [
       "Order({   'asset_class': 'us_equity',\n",
       "    'asset_id': 'b28f4066-5c6d-479b-a2af-85dc1a8f16fb',\n",
       "    'canceled_at': None,\n",
       "    'client_order_id': '8376773a-094b-485a-90d7-56bc0fda56be',\n",
       "    'created_at': '2020-02-23T07:31:23.406357Z',\n",
       "    'expired_at': None,\n",
       "    'extended_hours': False,\n",
       "    'failed_at': None,\n",
       "    'filled_at': None,\n",
       "    'filled_avg_price': None,\n",
       "    'filled_qty': '0',\n",
       "    'id': 'e448baef-6563-4e57-a7ed-e9c2e3ff3baa',\n",
       "    'legs': None,\n",
       "    'limit_price': None,\n",
       "    'order_class': '',\n",
       "    'order_type': 'market',\n",
       "    'qty': '1',\n",
       "    'replaced_at': None,\n",
       "    'replaced_by': None,\n",
       "    'replaces': None,\n",
       "    'side': 'buy',\n",
       "    'status': 'accepted',\n",
       "    'stop_price': None,\n",
       "    'submitted_at': '2020-02-23T07:31:23.357637Z',\n",
       "    'symbol': 'SPY',\n",
       "    'time_in_force': 'day',\n",
       "    'type': 'market',\n",
       "    'updated_at': '2020-02-23T07:31:23.406357Z'})"
      ]
     },
     "execution_count": 4,
     "metadata": {},
     "output_type": "execute_result"
    }
   ],
   "source": []
  },
  {
   "cell_type": "code",
   "execution_count": null,
   "metadata": {},
   "outputs": [],
   "source": []
  }
 ],
 "metadata": {
  "kernelspec": {
   "display_name": "Python 3",
   "language": "python",
   "name": "python3"
  },
  "language_info": {
   "codemirror_mode": {
    "name": "ipython",
    "version": 3
   },
   "file_extension": ".py",
   "mimetype": "text/x-python",
   "name": "python",
   "nbconvert_exporter": "python",
   "pygments_lexer": "ipython3",
   "version": "3.6.8"
  }
 },
 "nbformat": 4,
 "nbformat_minor": 2
}
